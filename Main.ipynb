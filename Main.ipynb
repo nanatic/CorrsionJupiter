{
 "cells": [
  {
   "cell_type": "markdown",
   "id": "e6482b03",
   "metadata": {
    "collapsed": false,
    "jupyter": {
     "outputs_hidden": false
    },
    "pycharm": {
     "name": "#%% md\n"
    }
   },
   "source": [
    "# Полномасштабная модель течения многофазного потока, описывающая изменения режима течения в локальных участках промыслового трубопровода влияющее на интенсификацию коррозионно-эрозионного износа"
   ]
  },
  {
   "cell_type": "markdown",
   "id": "4f4d55f6",
   "metadata": {
    "collapsed": false,
    "jupyter": {
     "outputs_hidden": false
    },
    "pycharm": {
     "name": "#%% md\n"
    }
   },
   "source": []
  },
  {
   "cell_type": "markdown",
   "id": "0a6e67ff",
   "metadata": {
    "collapsed": false,
    "jupyter": {
     "outputs_hidden": false
    },
    "pycharm": {
     "name": "#%% md\n"
    }
   },
   "source": [
    "## 1. Аннотация <a id=\"chapter1\"></a>\n",
    "Наиболее опасной формой коррозии является локальная (мейза) коррозия, которая интенсифицируется при наличии абразивных частиц в потоке, способных вызвать эрозионный износ материала. Изменение режима течения (касательные напряжения трения на стенке, скорость потока, перепад давления и т.д.) способны дополнительно ускорить износ. Для идентификации локальных участков промыслового трубопровода, в которых интенфицируются процессы коррозионно-эррозионного износа была разработана полномасштабная газо-гидродинамическая модель описывающая течения многофазного потока в трубопроводе. Модель позволяет выявлять локальные участки с изменением потоковых характеристик транспортируемой среды, выгружать данные по локальным участкам – перепад давления и температуры, фазовый состав, расход, режим течения, вязкость, плотность, КННС."
   ]
  },
  {
   "cell_type": "markdown",
   "id": "ab1d65c4",
   "metadata": {
    "collapsed": false,
    "jupyter": {
     "outputs_hidden": false
    },
    "pycharm": {
     "name": "#%% md\n"
    }
   },
   "source": [
    "## 2. Содержание <a id=\"chapter2\"></a>"
   ]
  },
  {
   "cell_type": "markdown",
   "id": "b598e323",
   "metadata": {
    "collapsed": false,
    "jupyter": {
     "outputs_hidden": false
    },
    "pycharm": {
     "name": "#%% md\n"
    }
   },
   "source": [
    "# Оглавление\n",
    "* [1.Аннотация](#chapter1)\n",
    "\n",
    "\n",
    "* [2. Содержание](#chapter2)\n",
    "\n",
    "\n",
    "* [3. Введение](#chapter3)\n",
    "\n",
    "\n",
    "* [4.Ввод_данных](#chapter4)\n",
    "\n",
    "\n",
    "* [5. Программа](#chapter5)\n",
    "    * [Пользовательский_Мануал](#section_5_1)\n",
    "    * [Техническое_описание](#section_5_2)\n",
    "    * [Код](#section_5_3)\n",
    "\n",
    "\n",
    "* [6. Вывод_данных](#chapter6)"
   ]
  },
  {
   "cell_type": "markdown",
   "id": "25b65ca6-1c69-42c2-b997-494f615e317a",
   "metadata": {
    "pycharm": {
     "name": "#%% md\n"
    }
   },
   "source": [
    "## 3. Введение <a id=\"chapter3\"></a>"
   ]
  },
  {
   "cell_type": "markdown",
   "id": "969e4bfa-756b-48ef-96b9-1dd35bc34741",
   "metadata": {
    "pycharm": {
     "name": "#%% md\n"
    }
   },
   "source": [
    "На данном этапе работы создается полномасштабная газогидродинамическая математическая модель течения многофазного потока. Полномасштабность модели обеспечивается комплексным учетом всех факторов гидродинамики потока и физико-химического состояния флюида которые по результатам предыдущих исследований определены как влияющие на коррозионно-эрозионные процессы в трубопроводах. Также вышеописанные факторы имеют некоторое взаимное влияние и поэтому объединены в единую математическую модель. \n",
    "Для проектирования полномасштабной газогидродинамической математической модели течения многофазного потока за основу были приняты общепромышленно признанные газогидродинамические симуляторы OLGA и PIPESIM. Однако создание сложной газогидродинамической модели на подобии реализованных в вышеуказанных коммерческих программных комплексах является избыточным для целей данной работы. Основной целью создаваемой модели является описание физико-химических и газогидродинамических процессов, происходящих в трубопроводе, с целью их учета при расчете коррозионно-эрозионных процессов.\n",
    "\n",
    "Данная версия программы состоит из трёх основных блоков: ввод, расчёт, вывод. Входными данными служит информация о геометрии трубы, составе и скорости движущихся в ней компонентов. Выходными данными являются давление и температура на заданном участке трубы, число рейнольдса, а так же режим течения"
   ]
  },
  {
   "cell_type": "markdown",
   "id": "54740cca",
   "metadata": {
    "collapsed": false,
    "jupyter": {
     "outputs_hidden": false
    },
    "pycharm": {
     "name": "#%% md\n"
    }
   },
   "source": [
    "![](img_1.png)"
   ]
  },
  {
   "cell_type": "markdown",
   "id": "08cf6af2",
   "metadata": {
    "collapsed": false,
    "jupyter": {
     "outputs_hidden": false
    },
    "pycharm": {
     "name": "#%% md\n"
    }
   },
   "source": [
    "* Рис 3.1 Блок-схема программы"
   ]
  },
  {
   "cell_type": "markdown",
   "id": "5b016424",
   "metadata": {
    "collapsed": false,
    "jupyter": {
     "outputs_hidden": false
    },
    "pycharm": {
     "name": "#%% md\n"
    }
   },
   "source": [
    "Гидродинамические характеристики газогидродинамического многофазного потока определяются на основании физико-химических свойств флюидов. Это позволияет выдавать изменения характеристик потока в характерных сегментах трубопровода, что в свою очередь позволит рассчитывать влияние данных характеристик на коррозионно-эрозионные процессы."
   ]
  },
  {
   "cell_type": "markdown",
   "id": "e02f17d8-76ad-4e0e-8f1b-46f89f29e1e7",
   "metadata": {
    "pycharm": {
     "name": "#%% md\n"
    }
   },
   "source": [
    "## 4. Ввод данных <a id=\"chapter4\"></a>"
   ]
  },
  {
   "cell_type": "markdown",
   "id": "364fe89c-d9ba-4be5-a948-ea0525e2709c",
   "metadata": {
    "pycharm": {
     "name": "#%% md\n"
    }
   },
   "source": [
    "Ввод данных осуществляется в фале Input_data.txt и состоит из двенадцати характеристик. Они приведены ниже на рисунке 4.1"
   ]
  },
  {
   "attachments": {},
   "cell_type": "markdown",
   "id": "03854bb1-1594-4edd-918a-740486b69a06",
   "metadata": {
    "pycharm": {
     "name": "#%% md\n"
    }
   },
   "source": [
    "![](img_3.png)"
   ]
  },
  {
   "cell_type": "markdown",
   "id": "b0417618-c319-46dc-ba86-fa6cb4198110",
   "metadata": {
    "pycharm": {
     "name": "#%% md\n"
    }
   },
   "source": [
    " **Рис.4.1** - Входные данные "
   ]
  },
  {
   "cell_type": "markdown",
   "id": "b13e350a-3373-44af-b516-f0a3065ce393",
   "metadata": {
    "pycharm": {
     "name": "#%% md\n"
    }
   },
   "source": [
    "* **temperature** - Температура выражающаяся в градусах Цельсия (С)\n",
    "* **pressure** - Давление выражающееся в Паскалях (Па)\n",
    "* **molar_composition** - Молярный состав - список из величин выражающих отношение объемов молярных долей в составе\n",
    "* **velocity** - Скорость потока (м \\ с)\n",
    "* **diameter** - Диаметр трубы (м)\n",
    "* **length** - Длина участка (м)\n",
    "* **vapor_viscosities** - Вязкость газообразной составляющей\n",
    "* **liquid_viscosities** - Вязкость жидкой составляющей\n",
    "* **components_density** - Плотность составлющих компонентов (кг \\ м:3)\n",
    "* **roughness** - Шероховатость стенки трубы (мкм)\n",
    "* **mass** - масса состава проходящая через трубу за секунду времени (кг \\ с)\n",
    "* **list_length** - список длин участков трубопровода\n",
    "* **list_diameter** - список диаметров участков трубопровода\n",
    "* **components** - химический состав компонентов газа и флюида находящихся в потоке"
   ]
  },
  {
   "cell_type": "markdown",
   "id": "5d18bd3d",
   "metadata": {
    "collapsed": false,
    "jupyter": {
     "outputs_hidden": false
    },
    "pycharm": {
     "name": "#%% md\n"
    }
   },
   "source": [
    "## 5. Программа <a id=\"chapter5\"></a>\n",
    "\n",
    "\n"
   ]
  },
  {
   "cell_type": "markdown",
   "id": "02555892",
   "metadata": {
    "collapsed": false,
    "jupyter": {
     "outputs_hidden": false
    },
    "pycharm": {
     "name": "#%% md\n"
    }
   },
   "source": [
    "### 5.1 Пользовательский мануал <a id=\"section_5_1\"></a>"
   ]
  },
  {
   "cell_type": "markdown",
   "id": "54a6a294",
   "metadata": {
    "collapsed": false,
    "jupyter": {
     "outputs_hidden": false
    },
    "pycharm": {
     "name": "#%% md\n"
    }
   },
   "source": [
    "Для выполнения вычисления, следует\n",
    "* **1** Открыть файл входных данных в папке jupiter (рис 5.1.1)\n",
    "![](img4.png)"
   ]
  },
  {
   "cell_type": "markdown",
   "id": "6b4f74aa",
   "metadata": {
    "collapsed": false,
    "jupyter": {
     "outputs_hidden": false
    },
    "pycharm": {
     "name": "#%% md\n"
    }
   },
   "source": [
    "* **2** Ввести данные для которых будет выполнен расчет согласно рис 4.1"
   ]
  },
  {
   "cell_type": "markdown",
   "id": "21f0ffb5",
   "metadata": {
    "collapsed": false,
    "jupyter": {
     "outputs_hidden": false
    },
    "pycharm": {
     "name": "#%% md\n"
    }
   },
   "source": [
    "* **3** Нажать правой кнопкой мыши на ячейку def main() в разделе исполнения и выбрать Run Cell (рис. 5.1.2)\n",
    "![](img_4.png)"
   ]
  },
  {
   "cell_type": "markdown",
   "id": "be50d77f",
   "metadata": {
    "collapsed": false,
    "jupyter": {
     "outputs_hidden": false
    },
    "pycharm": {
     "name": "#%% md\n"
    }
   },
   "source": [
    "* **4** Сформированный файл с выходными параметрами Output_data, с содержанием согласно (рис 6.1), будет находиться главной папке аналогично Input_data (рис 5.1.3)\n",
    "![](img_7.png)"
   ]
  },
  {
   "cell_type": "markdown",
   "id": "b81a751b",
   "metadata": {
    "collapsed": false,
    "jupyter": {
     "outputs_hidden": false
    },
    "pycharm": {
     "name": "#%% md\n"
    }
   },
   "source": []
  },
  {
   "cell_type": "markdown",
   "id": "737f1810",
   "metadata": {
    "collapsed": false,
    "jupyter": {
     "outputs_hidden": false
    },
    "pycharm": {
     "name": "#%% md\n"
    }
   },
   "source": [
    "### 5.2 Техническое описание <a id=\"section_5_2\"></a>"
   ]
  },
  {
   "cell_type": "markdown",
   "id": "2b9cfb24",
   "metadata": {
    "collapsed": false,
    "jupyter": {
     "outputs_hidden": false
    },
    "pycharm": {
     "name": "#%% md\n"
    }
   },
   "source": [
    "### 5.3 Код <a id=\"section_5_3\"></a>"
   ]
  },
  {
   "cell_type": "markdown",
   "id": "fdc6ca43",
   "metadata": {
    "collapsed": false,
    "jupyter": {
     "outputs_hidden": false
    },
    "pycharm": {
     "name": "#%% md\n"
    }
   },
   "source": [
    "Код состоит из нескольких основных структур:\n",
    "\n",
    "**Библиотеки** - подавляющее большинство методов и функций являются уникальными без существующих аналогов во внешних библиотеках, для решения рутиных вычислений используются вспомогательные библиотеки позволяющие сокращать блоки кода. Список загружаемых библиотек и их версий приведен в файле **requirements**.\n",
    "\n",
    "**Структуры** - объекты хранения данных, являющиеся многопараметрической формой представления конкретного участка трубопровода.\n",
    "\n",
    "**Функции** - исполняемые части кода разделяющие вычисление элементарных составляющих общей математической модели согласно принципам SOLID.\n",
    "\n",
    "**Исполнение** - Часть кода выполняющая последовательный запуск функций и вычисление необходимых выходных параметров."
   ]
  },
  {
   "cell_type": "markdown",
   "id": "fde2753c",
   "metadata": {
    "collapsed": false,
    "jupyter": {
     "outputs_hidden": false
    },
    "pycharm": {
     "name": "#%% md\n"
    }
   },
   "source": [
    "## Библиотеки"
   ]
  },
  {
   "cell_type": "markdown",
   "id": "c5d23e7e-a756-4185-801c-2192237db4e9",
   "metadata": {
    "pycharm": {
     "name": "#%% md\n"
    }
   },
   "source": []
  },
  {
   "cell_type": "code",
   "execution_count": null,
   "id": "bc5254b9",
   "metadata": {
    "ExecuteTime": {
     "end_time": "2023-10-23T13:55:47.774773400Z",
     "start_time": "2023-10-23T13:55:45.317754400Z"
    },
    "collapsed": false,
    "jupyter": {
     "outputs_hidden": false
    },
    "pycharm": {
     "name": "#%%\n"
    }
   },
   "outputs": [],
   "source": [
    "%pip install thermopack[2.1.0]"
   ]
  },
  {
   "cell_type": "code",
   "execution_count": null,
   "id": "c6380836",
   "metadata": {
    "collapsed": false,
    "jupyter": {
     "outputs_hidden": false
    },
    "pycharm": {
     "name": "#%%\n"
    }
   },
   "outputs": [],
   "source": [
    "\n",
    "from fluids.two_phase import Taitel_Dukler_regime\n"
   ]
  },
  {
   "cell_type": "markdown",
   "id": "c69f18c8-9e4b-457e-a2dc-6d2c9d74b3d6",
   "metadata": {
    "pycharm": {
     "name": "#%% md\n"
    }
   },
   "source": [
    "## Структуры"
   ]
  },
  {
   "cell_type": "markdown",
   "id": "53feaaa5-0d91-49b6-95c9-02aaa22e6310",
   "metadata": {
    "pycharm": {
     "name": "#%% md\n"
    }
   },
   "source": [
    "### Класс Tube_point"
   ]
  },
  {
   "cell_type": "markdown",
   "id": "f4eec414",
   "metadata": {
    "collapsed": false,
    "jupyter": {
     "outputs_hidden": false
    },
    "pycharm": {
     "name": "#%% md\n"
    }
   },
   "source": [
    "Класс Tube_point в Python представляет отрезок трубы. Он содержит различные свойства, описывающие характеристики материала, протекающего по трубе в этой конкретном отрезке.\n",
    "Свойства класса Tube_point включают:\n",
    "* **name**: строка, представляющая название материала.\n",
    "* **phase_name**: список строк, представляющих названия фаз, присутствующих нутри отрезкае (например, газ, жидкость).\n",
    "* **number_of_fluids**: целое число, указывающее количество присутствующих фаз.\n",
    "* **temperature**: значение с плавающей точкой, представляющлокальнуюную температ (К).\n",
    "* **pressure**: значение с плавающей точкой, представляющее локальное давл (Па).\n",
    "* **velocity**: значение с плавающей точкой, представляющее скорость смеси, протекающей по трм/скунду.\n",
    "* **diameter**: значение с плавающей точкой, представляющее локальный диаметр,руетрыметрах.\n",
    "* **length**: значение с плавающей точкой, представляющееотрезка трубый точке. Если это конечная точка, длина равна нулю.\n",
    "* **section_type**: целое число, представляющее тип раздела для расчета потерь (в настоящее время не используется).\n",
    "* **molar_composition**: список плавающих значений, представляющих молярный состав смеси.\n",
    "* **molar_masses**: список значений с плавающей запятой, представляющих молярные массы компонентов смеси.\n",
    "* **vapor_componnts**: список с плавающей точкой, представляющий распределение пара по компонентам (сумма равна 1).\n",
    "* **liquid_components**: список значений с плавающей запятой, представляющих распределение жидкости по компонентам (сумма равна 1).\n",
    "* **components_density**: список с плавающей точкой, представляющий распределение плотности по компонентам.\n",
    "* **overall_density**: значение с плавающей точкой, представляющее общую п,тность смеси в кг/м^3.\n",
    "* **overall_vapзначение с плавающей запятойion**: поплавок, представляющий распределение пара по смеси.\n",
    "* **overall_liqзначение с плавающей запятойtion**: поплавок, представляющий распределение жидкости по смеси.\n",
    "* **liquid_viscosities**: список плавающих значений, представляющих вязкость жидких компонентов по компонентам.\n",
    "* **vapor_viscosities**: список значений с плавающей запятой, представляющих вязкость п по компонентамв над компонентами.\n",
    "* **liquid_overall_viscosity**: значение с плавающей запятой, представляющее вязкость жидкой части.\n",
    "* **vapor_overall_viscosity**: значение с плавающей запятой, представляющее вязкость паровой части.\n",
    "* **overall_viscosity**: значение с плавающей точкой, представляющее вязкость смеси.\n",
    "* **flow_mode**: строка, представляющая выбранный режим потока.\n",
    "* **flow_mode_key**: значение с плавающей точкой, представляющее число, используемое для характеристики режима потока.\n",
    "* **flow_mode_friction_factor**: значение с плавающей точкой, представляющее коэффициент трения в режиме потока.\n",
    "* **reynolds_number**: число с плавающей точкой, представляющее число Рейнольдса для потока в данный момент."
   ]
  },
  {
   "cell_type": "markdown",
   "id": "6f90138c-1789-45e3-aa5f-bd403a88b21d",
   "metadata": {
    "pycharm": {
     "name": "#%% md\n"
    }
   },
   "source": []
  },
  {
   "cell_type": "code",
   "execution_count": null,
   "id": "b7c80995",
   "metadata": {
    "collapsed": false,
    "jupyter": {
     "outputs_hidden": false
    },
    "pycharm": {
     "name": "#%%\n"
    }
   },
   "outputs": [],
   "source": [
    "from typing import List\n",
    "import math\n",
    "import pandas as pd\n",
    "from thermopack.cubic import cubic\n",
    "import copy\n",
    "import sys\n",
    "import time\n",
    "import json\n",
    "\n",
    "sys.path.insert(0, '../pycThermopack/')\n",
    "\n",
    "#from PVT import *\n",
    "class Tube_point:\n",
    "    name: str = 'mixture'  # name: string, name of the material\n",
    "    phase_name: List[str] = ['gas']  # phase_name: list of strings, name of phases\n",
    "    number_of_fluids: int = 1  # number_of_fluids: integer, number of phases\n",
    "    temperature: float = 900.0  # T: double, local temperature, Kelvin\n",
    "    pressure: float = 400325.0  # p: double, local pressure, Pascal\n",
    "    velocity: float = 0.5  # v: double, mixture velocity, m/s\n",
    "    diameter: float = 0.5  # D: double, tube local diameter, m\n",
    "    length: float = 20  # length: double, tube length, m. Zero if it's endpoint\n",
    "    section_type = 1  # section type: integer, type of the section for losses calculation, not used yet - enum!\n",
    "    molar_composition: List[float] = [1.0]  # molar_composition: list of doubles, molar composition [probably constant]\n",
    "    molar_masses: List[float] = [0.01604, 0.018015]  # molar_masses: list of doubles, molar masses [constant overall]\n",
    "    vapor_components: List[float] = [\n",
    "        0.5]  # vapor_components: list of doubles, vapor distribution over components (sum is 1)\n",
    "    liquid_components: List[float] = [\n",
    "        0.5]  # liquid_components: list of doubles, liquid distribution over components (sum is 1)\n",
    "    components_density: List[float] = [ 665,997]  # components_density: list of doubles, density distribution over components\n",
    "    overall_density: float = 100.0  # overall_density: double, overall density, kg/m^3\n",
    "    overall_vapor_fraction: float = 0.1  # overall_vapor_fraction: double, vapor distribution over mixture\n",
    "    overall_liquid_fraction: float = 0.9  # overall_liquid_fraction: double, liquid distribution over mixture\n",
    "    liquid_viscosities: List[float] = [\n",
    "        1.0e-2]  # liquid_viscosities: list of doubles, viscosity of liquid parts over components\n",
    "    vapor_viscosities: List[float] = [\n",
    "        1.0e-1]  # vapor_viscosities:  list of doubles, viscosity of vapor parts over components\n",
    "    liquid_overall_viscosity: float = 1.0e-2  # liquid_overall_viscosity: double, viscosity of liquid part\n",
    "    vapor_overall_viscosity: float = 1.0e-1  # vapor_overall_viscosity: double, viscosity of vapor part\n",
    "    overall_viscosity: float = 1.0e-1  # overall_viscosity: double, viscosity of mixture\n",
    "    flow_mode: str = \"bubble\"  # flow_mode: string, name of selected flow flow_mode\n",
    "    flow_mode_key: float = 1.0  # flow_mode_key: double, currently XTT, later - other number to characterize flow_mode\n",
    "    flow_mode_friction_factor: float = 1.0  # flow_mode_friction_factor: double, currently from XTT\n",
    "    reynolds_number: float = 10000.0  # reynolds_number: double, Reynolds number for ...\n",
    "    roughness = 0.01  # roughness: шероховатость внутренней поверхности трубы\n",
    "    mass = 0.1\n",
    "    angle = 0  # angle: угол наклона трубы\n",
    "\n",
    "point = Tube_point()"
   ]
  },
  {
   "cell_type": "markdown",
   "id": "5180aabf",
   "metadata": {
    "collapsed": false,
    "jupyter": {
     "outputs_hidden": false
    },
    "pycharm": {
     "name": "#%% md\n"
    }
   },
   "source": [
    "## Функции"
   ]
  },
  {
   "cell_type": "markdown",
   "id": "4a8e8db9",
   "metadata": {
    "collapsed": false,
    "jupyter": {
     "outputs_hidden": false
    },
    "pycharm": {
     "name": "#%% md\n"
    }
   },
   "source": [
    "#### Функция вычисления плотности среды (calculate_overall_density)"
   ]
  },
  {
   "cell_type": "code",
   "execution_count": null,
   "id": "17922025",
   "metadata": {
    "collapsed": false,
    "jupyter": {
     "outputs_hidden": false
    },
    "pycharm": {
     "name": "#%%\n"
    }
   },
   "outputs": [],
   "source": [
    "def calculate_overall_density(point):  # необходимо дописать учёт агрегатного состояния\n",
    "    return sum(point.molar_composition[i] * point.components_density[i] for i in range(point.number_of_fluids))\n"
   ]
  },
  {
   "cell_type": "markdown",
   "id": "b67ed973",
   "metadata": {
    "collapsed": false,
    "jupyter": {
     "outputs_hidden": false
    },
    "pycharm": {
     "name": "#%% md\n"
    }
   },
   "source": [
    "Формула вычисления плотности среды получается по правилу \"креста\" (диагональная модель «конверта Пирсона») вычисляя плотности фазы по её мольной доле.\n",
    "Входными параметрами функции служит структура данных, из которой берутся мольные доли фаз и плотности фаз\n",
    "$$\n",
    "\\rho_{overall}=\\sum\\rho_ix_i\n",
    "$$\n",
    "$$\n",
    "Где: \\rho_i \\text{- плотность i-й фазы}\n",
    "$$\n",
    "$$\n",
    "x_i \\text{- мольная доля i-й фазы}\n",
    "$$"
   ]
  },
  {
   "cell_type": "code",
   "execution_count": null,
   "id": "9ac9b1c9-7450-4927-ac3d-afbb50883743",
   "metadata": {
    "ExecuteTime": {
     "end_time": "2023-10-23T13:55:47.855017900Z",
     "start_time": "2023-10-23T13:55:47.808625800Z"
    },
    "pycharm": {
     "name": "#%%\n"
    }
   },
   "outputs": [],
   "source": [
    "print(\"Overall density : \" + str(calculate_overall_density(point)))"
   ]
  },
  {
   "cell_type": "markdown",
   "id": "0f389d30-0dc9-4cc1-acdb-9c56b9f5cb00",
   "metadata": {
    "pycharm": {
     "name": "#%% md\n"
    }
   },
   "source": [
    "#### Функция обновления состояния структуры (update_point_state)"
   ]
  },
  {
   "cell_type": "markdown",
   "id": "ec1cdcdd-29f2-41ee-bacd-076daea44bc8",
   "metadata": {
    "pycharm": {
     "name": "#%% md\n"
    }
   },
   "source": [
    "Выполняет обновление текущих свойств вязкости, плотности и агрегатного состояние фаз используя библиотеку thermopack. Вызывается при изменении параметров температуры и давления для корректировки остальных характеристик параметров трубы."
   ]
  },
  {
   "cell_type": "code",
   "execution_count": null,
   "id": "f1a6c041",
   "metadata": {
    "collapsed": false,
    "jupyter": {
     "outputs_hidden": false
    },
    "pycharm": {
     "name": "#%%\n"
    }
   },
   "outputs": [],
   "source": [
    "def update_point_state(point):\n",
    "    \"\"\"\n",
    "    Updates tube point parameters after changing local temperature and pressure\n",
    "    \"\"\"\n",
    "    rk_fluid = cubic('N2,ETOH', 'SRK')  # obsolete\n",
    "    x, y, vap_frac, liq_frac, phase_key = rk_fluid.two_phase_tpflash(point.temperature, point.pressure,\n",
    "                                                                     point.molar_composition)\n",
    "    point.vapor_components = x\n",
    "    point.liquid_components = y\n",
    "    point.overall_vapor_fraction = vap_frac\n",
    "    point.overall_liquid_fraction = liq_frac\n",
    "\n",
    "    temp, = rk_fluid.specific_volume(point.temperature, point.pressure, point.molar_composition, 1)\n",
    "    density_1 = point.molar_masses[0] / temp\n",
    "\n",
    "    temp, = rk_fluid.specific_volume(point.temperature, point.pressure, point.molar_composition, 2)\n",
    "    density_2 = point.molar_masses[1] / temp\n",
    "\n",
    "    point.components_density = [density_1, density_2]\n",
    "    point.overall_density = calculate_overall_density(point)\n",
    "    ethanol_viscosity = ethanol_viscosity_from_temperature(point.temperature)\n",
    "    n2_viscosity = n2_viscosity_from_temperature(point.temperature)\n",
    "    point.liquid_viscosities = [ethanol_viscosity, n2_viscosity]\n",
    "    point.vapor_viscosities = [ethanol_viscosity, n2_viscosity]\n"
   ]
  },
  {
   "cell_type": "markdown",
   "id": "a504b212-2042-48af-8cf7-43f314005c44",
   "metadata": {
    "pycharm": {
     "name": "#%% md\n"
    }
   },
   "source": []
  },
  {
   "cell_type": "markdown",
   "id": "8a137d8b-5098-40a0-9b96-94df3238ad01",
   "metadata": {
    "pycharm": {
     "name": "#%% md\n"
    }
   },
   "source": [
    "### Функция определения режима течения calculate_xtt¶"
   ]
  },
  {
   "cell_type": "markdown",
   "id": "54423a88-e180-49ce-8d01-98dd27fb8531",
   "metadata": {
    "pycharm": {
     "name": "#%% md\n"
    }
   },
   "source": [
    "Рассчитывает параметр, по которому можно получить режим течения. Применена простейшая корреляция, в дальнейшем потребует корректировки.\n",
    "Есть 2 реализации, одна- с параметрами, вторая – со структурой, эти реализации не отличаются способом хранения данных. На вход подаётся плотности и вязкости жидкой и газообразной фазы, а также скорость среды и диаметр трубы. На выходе – параметр xtt (параметр Локхарта-Мартинелли), который рассчитывается как:\n",
    "\n",
    "$$ \n",
    "Xtt=\\sqrt{\\frac{1.096}{\\rho_{Liquid}}}\\cdot\\left[\\frac{\\rho_{Liquid}}{\\rho_{Gas}}\\right]^{0.25}\\cdot\\left[\\frac{\\mu_{Gas}}{\\mu_{Liquid}}\\right]^{0.1}\\cdot\\sqrt{\\frac{v_{Liquid}}{D}}\n",
    "$$\n",
    "$$\n",
    "Где: \\rho_{Liquid} \\text{- плотность жидкой фазы}\n",
    "$$\n",
    "$$\n",
    "\\rho_{Gas} \\text{- плотность газовой фазы}\n",
    "$$\n",
    "$$\n",
    "\\mu_{Gas} \\text{- вязкость газовой фазы}\n",
    "$$\n",
    "$$\n",
    "\\mu_{Liquid} \\text{- вязкость жидкой фазы}\n",
    "$$\n",
    "$$\n",
    "v_{Liquid} \\text{- скорость среды}\n",
    "$$\n",
    "$$\n",
    "D \\text{- диаметр трубы}\n",
    "$$\n"
   ]
  },
  {
   "cell_type": "code",
   "execution_count": null,
   "id": "72c3fb6f-55c8-40cd-847a-6c560c73a925",
   "metadata": {
    "ExecuteTime": {
     "end_time": "2023-10-23T13:55:47.855017900Z",
     "start_time": "2023-10-23T13:55:47.836146Z"
    },
    "pycharm": {
     "name": "#%%\n"
    }
   },
   "outputs": [],
   "source": [
    "def calculate_xtt(point):\n",
    "    \"\"\"\n",
    "    Calculates the parameter by which the flow mode can be obtained.\n",
    "    NOTE: The simplest correlation has been applied, which will require adjustments in the future\n",
    "    :return: xtt - Lockhart-Martinelli parameter\n",
    "    \"\"\"\n",
    "    liquid_density = point.components_density[0]\n",
    "    gas_density = point.components_density[1]\n",
    "    liquid_viscosity = point.liquid_viscosities[0]  # ? liquid_overall_viscosity?\n",
    "    gas_viscosity = point.liquid_viscosities[1]  # ?\n",
    "    velocity = point.velocity\n",
    "    diameter = point.diameter\n",
    "    return ((1.096 / liquid_density) ** 0.5) * ((liquid_density / gas_density) ** 0.25) * (\n",
    "            (gas_viscosity / liquid_viscosity) ** 0.1) * ((velocity / diameter) ** 0.5)\n",
    "#print(calculate_xtt(point))"
   ]
  },
  {
   "cell_type": "markdown",
   "id": "75b5ae97-3aa5-41eb-a901-280a4a80b8b2",
   "metadata": {
    "pycharm": {
     "name": "#%% md\n"
    }
   },
   "source": [
    "### Функция вычисления вязкости calculate_viscosity"
   ]
  },
  {
   "cell_type": "markdown",
   "id": "f6bc08f8-0bb2-4b2e-8c35-8df520f95af2",
   "metadata": {
    "pycharm": {
     "name": "#%% md\n"
    }
   },
   "source": [
    "Вычисляет общую вязкость среды по вязкости жидкой и газообразной фаз и параметру friction factor. На вход подаются 2 значения вязкости (жидкости и газа) и параметр friction factor (ff). Далее вычисление происходит по формуле:\n",
    "$$\n",
    "\\mu_{Total}=ff\\cdot\\mu_{Liquid}+\\left(1-ff\\right)\\cdot\\mu_{Gas}$$\n",
    "\n",
    "$$\n",
    "Где: ff \\text{- коэффициент трения}\n",
    "$$\n",
    "$$\n",
    "\\rho_{Gas} \\text{- плотность газовой фазы}\n",
    "$$\n",
    "\n",
    "$$\n",
    "\\mu_{Liquid} \\text{- вязкость жидкой фазы}\n",
    "$$\n",
    "$$\n",
    "\\mu_{Gas} \\text{- вязкость газовой фазы}\n",
    "$$\n",
    "\n"
   ]
  },
  {
   "cell_type": "code",
   "execution_count": null,
   "id": "5b5d2a5b-4990-4025-856e-6c8fb341e775",
   "metadata": {
    "ExecuteTime": {
     "end_time": "2023-10-23T13:55:47.855017900Z",
     "start_time": "2023-10-23T13:55:47.841610700Z"
    },
    "pycharm": {
     "name": "#%%\n"
    }
   },
   "outputs": [],
   "source": [
    "def calculate_viscosity(point, friction_factor):\n",
    "    liquid_viscosity = point.liquid_viscosities[0]  # ? liquid_overall_viscosity?\n",
    "    gas_viscosity = point.liquid_viscosities[1]  # ?\n",
    "    return friction_factor * liquid_viscosity + (1 - friction_factor) * gas_viscosity\n"
   ]
  },
  {
   "cell_type": "markdown",
   "id": "c6efb5ed-ba39-49e4-b262-eed73da252f2",
   "metadata": {
    "pycharm": {
     "name": "#%% md\n"
    }
   },
   "source": [
    "### Функция вычисления числа Рейнольдса calculate_Re"
   ]
  },
  {
   "cell_type": "markdown",
   "id": "35358243-9580-4560-8306-c274c7331ae6",
   "metadata": {
    "pycharm": {
     "name": "#%% md\n"
    }
   },
   "source": [
    "Вычисляет число Рейнольдса по общей плотности и общей вязкости среды. Есть 2 реализации, одна- с параметрами, вторая – со структурой, эти 2 реализации не отличаются ничем, кроме способа хранения данных. На вход подаются общая вязкость среды, общая плотность среды, диаметр трубы и скорость среды. Вычисление происходит по формуле:\n",
    "$$\n",
    "Re=\\frac{v\\cdot D\\cdot\\rho}{\\mu}\n",
    "$$\n",
    "\n",
    "$$\n",
    "Где: v \\text{- скорость среды в трубе в м/с;}\n",
    "$$\n",
    "$$\n",
    "D \\text{-  диаметр трубы в метрах}\n",
    "$$\n",
    "$$\n",
    "\\rho \\text{- плотность среды в кг/м3}\n",
    "$$\n",
    "$$\n",
    "\\mu \\text{- коэффициент динамической вязкости в Па*с}\n",
    "$$"
   ]
  },
  {
   "cell_type": "code",
   "execution_count": null,
   "id": "400e7a5f-bafb-4beb-af3e-604de3eaf11e",
   "metadata": {
    "ExecuteTime": {
     "end_time": "2023-10-23T13:55:47.994039200Z",
     "start_time": "2023-10-23T13:55:47.855017900Z"
    },
    "pycharm": {
     "name": "#%%\n"
    }
   },
   "outputs": [],
   "source": [
    "def calculate_Re(point):\n",
    "    \"\"\"\n",
    "    Calculates the Reynolds number based on the total density and total viscosity of the medium.\n",
    "    :return: Reynolds number\n",
    "    \"\"\"\n",
    "    return point.velocity * point.diameter * point.overall_density / point.overall_viscosity\n",
    "print(calculate_Re(point))"
   ]
  },
  {
   "cell_type": "markdown",
   "id": "476494c4-666e-4e07-a11a-484e333b56d3",
   "metadata": {
    "pycharm": {
     "name": "#%% md\n"
    }
   },
   "source": [
    "### Функция вычисления потери давления за единицу длины трубопровода (calculate_lambda)"
   ]
  },
  {
   "cell_type": "markdown",
   "id": "934c82ea-706a-4e2d-9908-5c34cedb9670",
   "metadata": {
    "pycharm": {
     "name": "#%% md\n"
    }
   },
   "source": [
    "Функция вычисляет коэффициент Лямбда. Лямбда - коэффициент, показывающий, сколько давления будет терять поток проходя один метр трубы. В зависимости от характера потока различают два характера течения ламинарное и турбулентное. Коэффициент при этих потоках вычисляется по закону Пуазейля и эмпирическому  закону Блазиуса соответственно.\n",
    "\n",
    "**Закон Пуазейля**\n",
    "Для сжимаемой жидкости в трубе (газа), объёмный расход и линейная скорость не постоянны вдоль трубы, при больших давлениях скорость и объемный расход меньше при неизменном расходе газа, приведённого к нормальным условиям. Поскольку газ при течении расширяется, то в общем случае температура газа изменяется вдоль трубы, то есть процесс неизотермический.\n",
    "Это означает, что скорость потока зависит не только от давления в данном сечении трубы, но и от температуры газа.\n",
    "\n",
    "**Закон Блазиуса**\n",
    "В турбулентном потоке характеризуемым влияние шероховатости на гидродинамику определяется согласно прямой графика 5.3.1\n",
    "![](img_8.png)\n",
    "**График 5.3.1**\n",
    "$$\n",
    "\\lambda=\\begin{cases}\\frac{64}{Re}  если  Re<2300\\\\ \\frac{0.316}{Re^{0.25}}  если  Re≥2300\\end{cases}\n",
    "$$\n",
    "$$\n",
    "Где: \\lambda \\text{- коэффициент потери давления;}\n",
    "$$\n",
    "$$\n",
    "Re \\text{- число Рейнольдса}\n",
    "$$\n"
   ]
  },
  {
   "cell_type": "code",
   "execution_count": null,
   "id": "23eefbed-9640-4e41-84d8-032dd5d1223a",
   "metadata": {
    "ExecuteTime": {
     "end_time": "2023-10-23T13:55:48.010113400Z",
     "start_time": "2023-10-23T13:55:47.873239900Z"
    },
    "pycharm": {
     "name": "#%%\n"
    }
   },
   "outputs": [],
   "source": [
    "def calculate_lambda(point):\n",
    "    if point.reynolds_number < 2300:\n",
    "        return 64 / point.reynolds_number\n",
    "    else:\n",
    "        return 0.316 / (point.reynolds_number ** 0.25)\n",
    "print(calculate_lambda(point))\n"
   ]
  },
  {
   "cell_type": "markdown",
   "id": "17a071cb-a264-49ad-9b7d-ce3eb4be99c0",
   "metadata": {
    "pycharm": {
     "name": "#%% md\n"
    }
   },
   "source": [
    "### Функция return_pressure_loss"
   ]
  },
  {
   "cell_type": "markdown",
   "id": "1e33b6fc-a368-4743-a8a2-2a213814e74c",
   "metadata": {
    "pycharm": {
     "name": "#%% md\n"
    }
   },
   "source": [
    "Вычисляет потери по длине. Реализация одна. На вход подается значение коэффициента трения, скорость, плотность, диаметр трубы и длина участка трубы. Далее вычисление происходит по формуле:\n",
    "$$\n",
    "\\begin{cases}ξ=\\frac{λ⋅L}{D}\\\\ ΔP=ξ⋅\\frac{ρV^2}{ 2}\\end{cases}\n",
    "$$"
   ]
  },
  {
   "cell_type": "code",
   "execution_count": null,
   "id": "871cc7e4-cbaf-4340-812a-fb5190b7994b",
   "metadata": {
    "ExecuteTime": {
     "end_time": "2023-10-23T13:55:48.010113400Z",
     "start_time": "2023-10-23T13:55:47.888193900Z"
    },
    "pycharm": {
     "name": "#%%\n"
    }
   },
   "outputs": [],
   "source": [
    "def calculate_pressure_loss(point):\n",
    "    xi = calculate_lambda(point) * point.length / point.diameter\n",
    "    return (xi * point.velocity ** 2) * 0.5 * point.overall_density\n",
    "\n",
    "print(\"Pressure loss : \"+str(calculate_pressure_loss(point)))"
   ]
  },
  {
   "cell_type": "markdown",
   "id": "f56f3e3d-52de-4878-aee9-ff55b1baca4f",
   "metadata": {
    "pycharm": {
     "name": "#%% md\n"
    }
   },
   "source": [
    "### Функция return_mode"
   ]
  },
  {
   "attachments": {},
   "cell_type": "markdown",
   "id": "a04a70ef-b7c0-4bbd-8328-2f856f380f19",
   "metadata": {
    "pycharm": {
     "name": "#%% md\n"
    }
   },
   "source": [
    "В модели Taitel and Dukler выделено 4 вида режимов двухфазного течения, где каждый из них можно подразделить на подклассы (рис. 5.3.1) Раздельный режим (Stratified flow),Прерывистый режим (Intermittent flow),Пузырьковый режим (Bubble flow) и Кольцевой режим (Annulaflowt)."
   ]
  },
  {
   "cell_type": "markdown",
   "id": "86cff483-6abc-439c-83da-687c9761a76c",
   "metadata": {
    "pycharm": {
     "name": "#%% md\n"
    }
   },
   "source": [
    "![](img_2.png)"
   ]
  },
  {
   "cell_type": "markdown",
   "id": "a89c159e",
   "metadata": {
    "collapsed": false,
    "jupyter": {
     "outputs_hidden": false
    },
    "pycharm": {
     "name": "#%% md\n"
    }
   },
   "source": [
    "**Рис 5.3.1** - режимы двухфазного течения в канале"
   ]
  },
  {
   "cell_type": "markdown",
   "id": "f92ee0ff-3b28-4a58-9123-f16fcea82dba",
   "metadata": {
    "pycharm": {
     "name": "#%% md\n"
    }
   },
   "source": [
    "По значению xtt выводит строку с режимом течения. Реализация одна.\n",
    "На вход подаётся параметр xtt."
   ]
  },
  {
   "cell_type": "code",
   "execution_count": null,
   "id": "aaaf8a28-9c0a-4a5c-9ae7-86f6e5e41893",
   "metadata": {
    "ExecuteTime": {
     "end_time": "2023-10-23T13:55:48.012776100Z",
     "start_time": "2023-10-23T13:55:47.906281Z"
    },
    "pycharm": {
     "name": "#%%\n"
    }
   },
   "outputs": [],
   "source": [
    "def return_mode(xtt):\n",
    "    list_ = []\n",
    "    list_ = Taitel_Dukler_regime(m=Tube_point.mass, x=0.7, rhol=Tube_point.components_density[1],\n",
    "                                 rhog=Tube_point.components_density[0], mul=Tube_point.liquid_viscosities,\n",
    "                                 mug=Tube_point.vapor_viscosities, D=Tube_point.diameter, angle=Tube_point.angle,\n",
    "                                 roughness=Tube_point.roughness)\n",
    "    return list_[0]"
   ]
  },
  {
   "cell_type": "markdown",
   "id": "8edb388a-997b-4a6e-98b1-813af563d881",
   "metadata": {
    "pycharm": {
     "name": "#%% md\n"
    }
   },
   "source": [
    "### Функция return_friction_factor"
   ]
  },
  {
   "cell_type": "markdown",
   "id": "ec0fdce2-8918-4925-a212-50a0eb27df4e",
   "metadata": {
    "pycharm": {
     "name": "#%% md\n"
    }
   },
   "source": [
    "По значению xtt выводит friction factor для расчёта вязкости. На вход подаётся параметр xtt."
   ]
  },
  {
   "cell_type": "code",
   "execution_count": null,
   "id": "167fb060-723e-4ba3-a276-c751d110b2b5",
   "metadata": {
    "ExecuteTime": {
     "end_time": "2023-10-23T13:55:48.012776100Z",
     "start_time": "2023-10-23T13:55:47.921642100Z"
    },
    "pycharm": {
     "name": "#%%\n"
    }
   },
   "outputs": [],
   "source": [
    "def return_friction_factor(xtt):\n",
    "    \"\"\"\n",
    "    Outputs the friction factor to calculate the viscosity.\n",
    "    :param xtt:\n",
    "    :return:\n",
    "    \"\"\"\n",
    "    if xtt < 10:\n",
    "        return 1\n",
    "    if 10 <= xtt < 100:\n",
    "        return 0.9\n",
    "    if 100 <= xtt < 1000:\n",
    "        return 0.8\n",
    "    if 1000 <= xtt < 10000:\n",
    "        return 0.7\n",
    "    if 10000 <= xtt:\n",
    "        return 0.6\n",
    "    return 0\n",
    "print(\"Friction factor : \"+str(return_friction_factor(7.6)))"
   ]
  },
  {
   "cell_type": "markdown",
   "id": "d65383f0-9167-448f-817a-ecec551bf92f",
   "metadata": {
    "pycharm": {
     "name": "#%% md\n"
    }
   },
   "source": [
    "### Функция ethanol_viscosity_from_temperature"
   ]
  },
  {
   "cell_type": "markdown",
   "id": "699c5c4b-18eb-46c0-85a5-a8e70dfa4910",
   "metadata": {
    "pycharm": {
     "name": "#%% md\n"
    }
   },
   "source": [
    "Вычисление вязкости жидкого этанола в зависимости от температуры по экспоненциальной корреляции. На вход подаётся температура, на выходе – вязкость в Па*с. Постоянные для этанола зашиты внутрь самой функции:\n",
    "$$\n",
    "\\mu_{Ethanol}=A\\exp{\\left(\\frac{B}{T}+CT+DT^2\\right)}\n",
    "$$\n",
    "$$\n",
    "\\begin{cases}A = 0.00201 mPa⋅s\\\\ B = 1614\\cdot K\\\\ C = 0.00618\\cdot K-1\\\\ D = -1.132⋅10^{-5}\\cdot K^{-2}\\end{cases}\n",
    "$$"
   ]
  },
  {
   "cell_type": "code",
   "execution_count": null,
   "id": "08274079-d89a-4101-bd30-b86fc7a20b2e",
   "metadata": {
    "ExecuteTime": {
     "end_time": "2023-10-23T13:55:48.012776100Z",
     "start_time": "2023-10-23T13:55:47.937015300Z"
    },
    "pycharm": {
     "name": "#%%\n"
    }
   },
   "outputs": [],
   "source": [
    "def ethanol_viscosity_from_temperature(T):\n",
    "    A = 0.00201 * 1e-6\n",
    "    B = 1614\n",
    "    C = 0.00618\n",
    "    D = 1.132 * (-1e-5)\n",
    "    return A * math.exp(B / T + C * T + D * T * T)\n",
    "    \n",
    "print(\"Ethanol viscosity : \"+str(ethanol_viscosity_from_temperature(307.5)))"
   ]
  },
  {
   "cell_type": "markdown",
   "id": "e7c968e1-230d-401f-ab43-e7b53e6ae002",
   "metadata": {
    "pycharm": {
     "name": "#%% md\n"
    }
   },
   "source": [
    "### Функция n2_viscosity_from_temperature"
   ]
  },
  {
   "cell_type": "markdown",
   "id": "390fb0c3-e97c-4b22-be0e-63d627a9e26d",
   "metadata": {
    "pycharm": {
     "name": "#%% md\n"
    }
   },
   "source": [
    "Вычисление вязкости газообразного азота в зависимости от температуры по формуле Сазерленда. На вход подаётся температура, на выходе – вязкость в Па*с. Постоянные для азота занесены внутрь самой функции:\n",
    "$$\n",
    "\\mu_{Nitrogen}=\\mu_0\\left(\\frac{T}{T_0}\\right)^\\frac{3}{2}\\cdot\\frac{T_0+S}{T+S}\n",
    "$$\n",
    "$$\n",
    "\\begin{cases}μ0=1.7⋅10-5 Pa⋅s\\\\ T0=273 K\\\\S=104.7 K \\end{cases}\n",
    "$$"
   ]
  },
  {
   "cell_type": "code",
   "execution_count": null,
   "id": "54bf3b36-fa8d-4c8d-bf76-32da2f4db3fa",
   "metadata": {
    "ExecuteTime": {
     "end_time": "2023-10-23T13:55:48.012776100Z",
     "start_time": "2023-10-23T13:55:47.950826800Z"
    },
    "pycharm": {
     "name": "#%%\n"
    }
   },
   "outputs": [],
   "source": [
    "def n2_viscosity_from_temperature(T):\n",
    "    VISCOSITY_INIT = 1.7e-5\n",
    "    T_INIT = 273\n",
    "    S = 104.7\n",
    "    return (VISCOSITY_INIT * (T / T_INIT) ** 1.5) * (T_INIT + S) / (T + S)\n",
    "\n",
    "print(\"Nitrogen viscosity : \"+str(n2_viscosity_from_temperature(307.5)))"
   ]
  },
  {
   "cell_type": "markdown",
   "id": "535f837a-d149-47cd-b94a-9ee08f47671d",
   "metadata": {
    "pycharm": {
     "name": "#%% md\n"
    }
   },
   "source": [
    "### Функция start_point_from_excel"
   ]
  },
  {
   "cell_type": "code",
   "execution_count": null,
   "id": "d2bf9cd9",
   "metadata": {
    "collapsed": false,
    "jupyter": {
     "outputs_hidden": false
    },
    "pycharm": {
     "name": "#%%\n"
    }
   },
   "outputs": [],
   "source": [
    "def start_point_from_excel(point):  # initialization of start point\n",
    "\n",
    "\n",
    "\n",
    "    with open('Input_data.txt') as json_file:\n",
    "        data = json.load(json_file)\n",
    "\n",
    "    data['temperature'] = input(\"Введите температуру\")\n",
    "\n",
    "    point.temperature = data['temperature']\n",
    "    point.pressure = data['pressure']\n",
    "    point.molar_composition = data['molar_composition']\n",
    "    point.molar_masses = data['molar_masses']\n",
    "    point.velocity = data['velocity']\n",
    "    point.diameter = data['diameter']\n",
    "    point.length = data['length']\n",
    "    point.vapor_viscosities = data['vapor_viscosities']\n",
    "    point.liquid_viscosities = data['liquid_viscosities']\n",
    "    point.components_density = data['components_density']\n",
    "    point.roughness = data['roughness']\n",
    "    point.mass = data['mass']\n",
    "    point.angle = data['angle']\n",
    "    point.list_length = data['list_length']\n",
    "    point.list_diameter = data['list_diameter']\n",
    "\n",
    "    update_point_state(point)\n"
   ]
  },
  {
   "cell_type": "markdown",
   "id": "c05110bb-36c7-4a54-b3d5-b3461c86f0eb",
   "metadata": {
    "pycharm": {
     "name": "#%% md\n"
    }
   },
   "source": [
    "Инициализация и заполнение структуры данных начальными параметрами. Аналог функции pvt_block, но для первой итерации. Заполняется из файла."
   ]
  },
  {
   "cell_type": "code",
   "execution_count": null,
   "id": "c55a0461-4cc9-4a24-abda-857eecb5c68c",
   "metadata": {
    "ExecuteTime": {
     "end_time": "2023-10-23T13:55:48.012776100Z",
     "start_time": "2023-10-23T13:55:47.962607200Z"
    },
    "pycharm": {
     "name": "#%%\n"
    }
   },
   "outputs": [],
   "source": []
  },
  {
   "cell_type": "markdown",
   "id": "1f9e50b5-4a3b-4389-9619-4ae00b9ce357",
   "metadata": {
    "pycharm": {
     "name": "#%% md\n"
    }
   },
   "source": [
    "### Функция define_tube_params"
   ]
  },
  {
   "cell_type": "markdown",
   "id": "70574625-ff46-45e1-b9d7-12a0718a4d0f",
   "metadata": {
    "pycharm": {
     "name": "#%% md\n"
    }
   },
   "source": [
    "Функция, задающая в структуре данных параметры трубы и пересчитывающая скорость через сохранение расхода. Принимает объект структуры данных, диаметр трубы и длину участка, а так же плотность на предыдущем шаге. Расход на предыдущем шаге вычисляется как:\n",
    "$$\n",
    "{Q^\\prime}_{i-1}=4\\cdot\\frac{Q_{i-1}}{\\pi}=v_{i-1}\\cdot D_{i-1}^2\\cdot\\rho_{i-1}\n",
    "$$\n",
    "Тогда скорость из расхода (при учете его сохранения, т.е. выполнения уравнения неразрывности:)\n",
    "$$\n",
    "Q_{i-1}^\\prime=Q_i^\\prime\\rightarrow v_i=\\frac{Q_i^\\prime}{D_i^2\\cdot\\rho_i}\\ \n",
    "$$"
   ]
  },
  {
   "cell_type": "code",
   "execution_count": null,
   "id": "5d292c6c-184f-4e90-8344-a565a7b5738a",
   "metadata": {
    "ExecuteTime": {
     "end_time": "2023-10-23T13:55:48.012776100Z",
     "start_time": "2023-10-23T13:55:47.978240500Z"
    },
    "pycharm": {
     "name": "#%%\n"
    }
   },
   "outputs": [],
   "source": [
    "def define_tube_params(point, diameter, length, density_old):\n",
    "    q = point.velocity * point.diameter * point.diameter * density_old\n",
    "    new_velocity = q / (diameter * diameter * point.overall_density)  # mass balance, pi/4 is skipped\n",
    "    # due to presence in both parts of equation\n",
    "    point.diameter = diameter\n",
    "    point.length = length\n",
    "    point.velocity = new_velocity\n",
    "\n",
    "print(\"Ethanol viscosity : \"+str(define_tube_params(point,0.08, 100, 13.5)))"
   ]
  },
  {
   "cell_type": "markdown",
   "id": "363c6264-5876-4a4c-8b71-ad2949b6be96",
   "metadata": {
    "pycharm": {
     "name": "#%% md\n"
    }
   },
   "source": [
    "### Функция pvt_block"
   ]
  },
  {
   "cell_type": "markdown",
   "id": "f7a595ee-62c6-4c0e-8e55-a3bbf6318fc8",
   "metadata": {
    "pycharm": {
     "name": "#%% md\n"
    }
   },
   "source": [
    "Основная рабочая функция. Меняет основные показатели и обновляет состояние отрезка трубы."
   ]
  },
  {
   "cell_type": "code",
   "execution_count": null,
   "id": "a9585747",
   "metadata": {
    "collapsed": false,
    "jupyter": {
     "outputs_hidden": false
    },
    "pycharm": {
     "name": "#%%\n"
    }
   },
   "outputs": [],
   "source": [
    "def pvt_block(point: Tube_point, new_pressure, new_temperature):\n",
    "    point.temperature = new_temperature\n",
    "    point.pressure = new_pressure\n",
    "    update_point_state(point)\n",
    "    return point\n",
    "#pvt_block(point, 310.5, 400000)"
   ]
  },
  {
   "cell_type": "markdown",
   "id": "eaed3ddd",
   "metadata": {
    "collapsed": false,
    "jupyter": {
     "outputs_hidden": false
    },
    "pycharm": {
     "name": "#%% md\n"
    }
   },
   "source": [
    "## Исполнение"
   ]
  },
  {
   "cell_type": "markdown",
   "id": "2819df4a",
   "metadata": {
    "collapsed": false,
    "jupyter": {
     "outputs_hidden": false
    },
    "pycharm": {
     "name": "#%% md\n"
    }
   },
   "source": [
    "Функция main запускает расчёт всей последовательности."
   ]
  },
  {
   "cell_type": "code",
   "execution_count": 2,
   "id": "edfafda8",
   "metadata": {
    "pycharm": {
     "name": "#%%\n"
    },
    "scrolled": true
   },
   "outputs": [
    {
     "name": "stdout",
     "output_type": "stream",
     "text": [
      "Ввод входных данных. в качестве десятичного разделителя используйте  \".\" (точку)\n",
      "[1000, 200, 450, 450, 1000]\n",
      "[0.08, 0.08, 0.09, 0.07, 0.09]\n",
      "0.0\n",
      "Found  stratified smooth  flow_mode at 1000 ! xtt=  3.542051262368682e-05\n",
      "Reynolds number for  1000 0.08  is  0.09618617008802852 lambda is  665.3763211637173\n",
      "P1:  16249999.999998327 , T1:  210.7\n",
      "КННС: 324999999.9999665\n",
      "\n",
      "10.0\n",
      "Found  stratified smooth  flow_mode at 200 ! xtt=  3.534074518635959e-05\n",
      "Reynolds number for  1000 0.08  is  0.09518441690002366 lambda is  672.3789679483143\n",
      "P1:  16249999.999996655 , T1:  210.1\n",
      "КННС: 6.690621376037598e-06\n",
      "\n",
      "20.0\n",
      "Found  stratified smooth  flow_mode at 450 ! xtt=  2.9484171278266775e-05\n",
      "Reynolds number for  1000 0.08  is  0.0828479763905764 lambda is  772.4992545174553\n",
      "P1:  16249999.999994982 , T1:  209.2\n",
      "КННС: 1.693563535809517e-05\n",
      "\n",
      "30.0\n",
      "Found  stratified smooth  flow_mode at 450 ! xtt=  4.2694226706548135e-05\n",
      "Reynolds number for  1000 0.08  is  0.10318906825601043 lambda is  620.2207373480398\n",
      "P1:  16249999.99999331 , T1:  208.0\n",
      "КННС: 1.3172160834074022e-05\n",
      "\n",
      "The time of execution of above program is : 120701.29084587097 ms\n",
      "[16250000, 16250000, 16250000, 16250000]\n"
     ]
    },
    {
     "data": {
      "text/plain": "<Figure size 640x480 with 3 Axes>",
      "image/png": "[encoded data removed]"
     },
     "metadata": {},
     "output_type": "display_data"
    }
   ],
   "source": [
    "\n",
    "from Tube_point import *\n",
    "\n",
    "\n",
    "def main():\n",
    "    point = Tube_point()\n",
    "    start_point_from_excel(point)\n",
    "    print(point.list_length)\n",
    "    print(point.list_diameter)\n",
    "    tube_diameters = point.list_diameter\n",
    "    tube_lengths = point.list_length\n",
    "    tube_angles = point.angle\n",
    "    tube_points = [point]\n",
    "\n",
    "    re_nums = list()\n",
    "    list_p1 = list()\n",
    "    list_t1 = list()\n",
    "    output_data = [] # FORM :: [{'P1': None, 'T1': None, 'Flow': None, 'Re': None }]\n",
    "    P0 = 0\n",
    "\n",
    "    for i in range(1, len(tube_diameters)):\n",
    "        tube_points[i - 1].length = tube_lengths[i - 1]\n",
    "        tube_points[i - 1].diameter = tube_diameters[i - 1]\n",
    "        tube_points[i - 1].angle = tube_angles[i - 1]\n",
    "        new_dat = []\n",
    "        new_dat = {'P1': None, 'T1': None, 'Flow': None, 'Re': None, 'KHHC': None }\n",
    "        xtt = calculate_xtt(tube_points[i - 1])\n",
    "        flow_mode = return_mode(tube_points[i-1].angle)\n",
    "        new_dat['Flow'] = f'Found , {flow_mode},  flow_mode at, {tube_points[i-1].length}, ! xtt= , {xtt}'\n",
    "        print('Found ', flow_mode, ' flow_mode at', tube_points[i-1].length, '! xtt= ', xtt)\n",
    "        friction_factor = return_friction_factor(xtt)\n",
    "        tube_points[i - 1].overall_viscosity = calculate_viscosity(tube_points[i - 1], friction_factor)\n",
    "        tube_points[i - 1].reynolds_number = calculate_Re(tube_points[i - 1])\n",
    "        re_nums.append(tube_points[i - 1].reynolds_number)\n",
    "        new_dat['Re'] = f'Reynolds number for , {point.length, point.diameter},  is  {tube_points[i - 1].reynolds_number}, lambda is ,{calculate_lambda(tube_points[i - 1])}'\n",
    "        print('Reynolds number for ', point.length, point.diameter, ' is ', tube_points[i - 1].reynolds_number, 'lambda is ',\n",
    "              calculate_lambda(tube_points[i - 1]))\n",
    "        diff = calculate_pressure_loss(point)\n",
    "\n",
    "        P1 = tube_points[i - 1].pressure - diff\n",
    "        T1 = tube_points[i - 1].temperature - i * 0.3\n",
    "        list_p1.append(P1)\n",
    "        list_t1.append(T1)\n",
    "        new_dat['P1'] = P1\n",
    "        new_dat['T1'] = T1\n",
    "        print('P1: ', P1, ', T1: ', T1)\n",
    "        KHHC = abs(P0-P1) * (tube_points[i-1].diameter/2)/ 2* tube_points[i-1].length\n",
    "        print('КННС:', KHHC )\n",
    "        new_dat['KHHC'] = KHHC\n",
    "        output_data.append(new_dat)\n",
    "        next_point = copy.deepcopy(tube_points[i - 1])\n",
    "\n",
    "        density = next_point.overall_density\n",
    "        next_point = pvt_block(next_point, P1, T1)\n",
    "        define_tube_params(next_point, tube_diameters[i], tube_lengths[i], density)\n",
    "\n",
    "        tube_points.append(next_point)\n",
    "        P0 = P1\n",
    "        print()\n",
    "    with open('Output_data.txt', 'w') as outfile:\n",
    "        json.dump(output_data, outfile, indent=4)\n",
    "\n",
    "start = time.time()\n",
    "\n",
    "main()\n",
    "\n",
    "end = time.time()\n",
    "print(\"The time of execution of above program is :\", (end - start) * 10 ** 3, \"ms\")\n",
    "\n",
    "\n",
    "import matplotlib.pyplot as plt\n",
    "import numpy as np\n",
    "\n",
    "data = {'series1':[],\n",
    "        'series2':[],\n",
    "        'series3':[]}\n",
    "\n",
    "with open('Output_data.txt') as outpt:\n",
    "    file_content = outpt.read()\n",
    "    OU = json.loads(file_content)\n",
    "    for i in OU:\n",
    "        data['series1'].append(round(i[\"P1\"]))\n",
    "        data['series2'].append(round(i[\"T1\"]))\n",
    "        data['series3'].append(round(i[\"KHHC\"]))\n",
    "    print(data['series1'])\n",
    "\n",
    "figure, axis = plt.subplots(3)\n",
    "x = np.arange(len(data['series1']))\n",
    "\n",
    "axis[0].plot(x,data['series1'])\n",
    "axis[0].set_title(\"Давление\")\n",
    "\n",
    "axis[1].plot(x,data['series2'])\n",
    "axis[1].set_title(\"Температура\")\n",
    "\n",
    "axis[2].plot(x,data['series3'])\n",
    "axis[2].set_title(\"КННС\")\n",
    "\n",
    "\n",
    "plt.show()"
   ]
  },
  {
   "cell_type": "markdown",
   "id": "32c2966e-5596-4a24-accc-2b28f62cb089",
   "metadata": {
    "pycharm": {
     "name": "#%% md\n"
    }
   },
   "source": [
    "## 6. Вывод данных <a id=\"chapter6\"></a>"
   ]
  },
  {
   "cell_type": "markdown",
   "id": "ee496bca-7914-40b9-9bb6-6aca6e26a510",
   "metadata": {
    "pycharm": {
     "name": "#%% md\n"
    }
   },
   "source": [
    "Выходными данными является файл Output_data.txt. Выходные данные являются списком словарей каждый из членов которого даёт информацию на каждом отдельной итерации цикла. Каждый компонент состоит из четырех характеристик (Рис 6.1)"
   ]
  },
  {
   "attachments": {},
   "cell_type": "markdown",
   "id": "d0dcd732-cb0b-4d0c-a2eb-e138d2c5583d",
   "metadata": {
    "pycharm": {
     "name": "#%% md\n"
    }
   },
   "source": [
    "![](img_5.png)"
   ]
  },
  {
   "cell_type": "markdown",
   "id": "0deb0fbe-489c-4ab7-9369-1bb919e0db56",
   "metadata": {
    "pycharm": {
     "name": "#%% md\n"
    }
   },
   "source": [
    "**(Рис 6.1)** - Выходные данные"
   ]
  },
  {
   "cell_type": "markdown",
   "id": "0a401704-6817-49de-beff-98041ee6c11c",
   "metadata": {
    "pycharm": {
     "name": "#%% md\n"
    }
   },
   "source": [
    "**P1** - Давление на участке\n",
    "**T1** - Температура на участке\n",
    "**Flow** - Режим течения на участке\n",
    "**Re** - число Рейнольдса на участке\n",
    "**KHHC** - значение КННС на данном участке"
   ]
  },
  {
   "cell_type": "markdown",
   "id": "1a352ef6-95ac-411a-9b40-7f61b8f9f654",
   "metadata": {
    "pycharm": {
     "name": "#%% md\n"
    }
   },
   "source": []
  }
 ],
 "metadata": {
  "kernelspec": {
   "display_name": "Python 3 (ipykernel)",
   "language": "python",
   "name": "python3"
  },
  "language_info": {
   "codemirror_mode": {
    "name": "ipython",
    "version": 3
   },
   "file_extension": ".py",
   "mimetype": "text/x-python",
   "name": "python",
   "nbconvert_exporter": "python",
   "pygments_lexer": "ipython3",
   "version": "3.11.0"
  }
 },
 "nbformat": 4,
 "nbformat_minor": 5
}